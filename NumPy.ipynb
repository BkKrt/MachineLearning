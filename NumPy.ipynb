{
 "cells": [
  {
   "cell_type": "code",
   "execution_count": 1,
   "id": "115f0214-dc3b-477f-a99e-4f442b825c7e",
   "metadata": {},
   "outputs": [],
   "source": [
    "import numpy as np"
   ]
  },
  {
   "cell_type": "code",
   "execution_count": 6,
   "id": "fd1c91f7-f445-47f6-8a1d-010826e4f50c",
   "metadata": {},
   "outputs": [
    {
     "name": "stdout",
     "output_type": "stream",
     "text": [
      "[ 1  5 10]\n"
     ]
    }
   ],
   "source": [
    "a = np.array([1,5,10])\n",
    "\n",
    "print (a)\n"
   ]
  },
  {
   "cell_type": "code",
   "execution_count": 7,
   "id": "df36e1cf-e3da-4786-9049-0458e0fa5b30",
   "metadata": {},
   "outputs": [
    {
     "name": "stdout",
     "output_type": "stream",
     "text": [
      "[[ 1  7 20]\n",
      " [ 5  8  9]]\n"
     ]
    }
   ],
   "source": [
    "b = np.array([[1,7,20],[5,8,9]])\n",
    "print(b)"
   ]
  },
  {
   "cell_type": "code",
   "execution_count": 8,
   "id": "9cf0fc91-597c-4db9-9e7b-2b69613d18c4",
   "metadata": {},
   "outputs": [
    {
     "data": {
      "text/plain": [
       "2"
      ]
     },
     "execution_count": 8,
     "metadata": {},
     "output_type": "execute_result"
    }
   ],
   "source": [
    "b.ndim"
   ]
  },
  {
   "cell_type": "code",
   "execution_count": 9,
   "id": "73ff1efe-ba5a-44c7-a105-7800724b4fd9",
   "metadata": {},
   "outputs": [
    {
     "data": {
      "text/plain": [
       "1"
      ]
     },
     "execution_count": 9,
     "metadata": {},
     "output_type": "execute_result"
    }
   ],
   "source": [
    "a.ndim"
   ]
  },
  {
   "cell_type": "code",
   "execution_count": 10,
   "id": "fdd2b74e-66e8-4bd8-9baa-08a7ab481c2f",
   "metadata": {},
   "outputs": [
    {
     "data": {
      "text/plain": [
       "(2, 3)"
      ]
     },
     "execution_count": 10,
     "metadata": {},
     "output_type": "execute_result"
    }
   ],
   "source": [
    "b.shape\n"
   ]
  },
  {
   "cell_type": "code",
   "execution_count": 11,
   "id": "3137886a-1478-4c92-bb9e-07d7d9325ba0",
   "metadata": {},
   "outputs": [
    {
     "data": {
      "text/plain": [
       "dtype('int32')"
      ]
     },
     "execution_count": 11,
     "metadata": {},
     "output_type": "execute_result"
    }
   ],
   "source": [
    "a.dtype"
   ]
  },
  {
   "cell_type": "code",
   "execution_count": 12,
   "id": "121d7cd9-de45-4abe-866a-4d14f56a5bea",
   "metadata": {},
   "outputs": [
    {
     "data": {
      "text/plain": [
       "dtype('float64')"
      ]
     },
     "execution_count": 12,
     "metadata": {},
     "output_type": "execute_result"
    }
   ],
   "source": [
    "x = np.array([1.0,3.2,4.5])\n",
    "x.dtype"
   ]
  },
  {
   "cell_type": "code",
   "execution_count": 13,
   "id": "34608234-8981-43a0-abfc-4ed9b52f6f23",
   "metadata": {},
   "outputs": [
    {
     "name": "stdout",
     "output_type": "stream",
     "text": [
      "[[ 1  7 20]\n",
      " [ 5  8  9]]\n"
     ]
    }
   ],
   "source": [
    "print(b)"
   ]
  },
  {
   "cell_type": "code",
   "execution_count": 14,
   "id": "93a60a66-7271-4b20-8fc2-aab3f90fe57f",
   "metadata": {},
   "outputs": [
    {
     "data": {
      "text/plain": [
       "20"
      ]
     },
     "execution_count": 14,
     "metadata": {},
     "output_type": "execute_result"
    }
   ],
   "source": [
    "b[0,2]"
   ]
  },
  {
   "cell_type": "code",
   "execution_count": 15,
   "id": "796247f3-42a2-4abd-909b-3c6f3359a0aa",
   "metadata": {},
   "outputs": [
    {
     "data": {
      "text/plain": [
       "8"
      ]
     },
     "execution_count": 15,
     "metadata": {},
     "output_type": "execute_result"
    }
   ],
   "source": [
    "b[1,1]"
   ]
  },
  {
   "cell_type": "code",
   "execution_count": 16,
   "id": "ae248f0b-9123-4a82-bc28-e59425fdea8e",
   "metadata": {},
   "outputs": [
    {
     "data": {
      "text/plain": [
       "array([ 1,  7, 20])"
      ]
     },
     "execution_count": 16,
     "metadata": {},
     "output_type": "execute_result"
    }
   ],
   "source": [
    "b[0]"
   ]
  },
  {
   "cell_type": "code",
   "execution_count": 17,
   "id": "05304d5f-77b0-4822-86da-0dc4a20388f7",
   "metadata": {},
   "outputs": [
    {
     "data": {
      "text/plain": [
       "array([ 7, 20])"
      ]
     },
     "execution_count": 17,
     "metadata": {},
     "output_type": "execute_result"
    }
   ],
   "source": [
    "b[0,1:]"
   ]
  },
  {
   "cell_type": "code",
   "execution_count": 19,
   "id": "f685440b-9295-4197-b8bd-a2046d218e9a",
   "metadata": {},
   "outputs": [
    {
     "data": {
      "text/plain": [
       "18"
      ]
     },
     "execution_count": 19,
     "metadata": {},
     "output_type": "execute_result"
    }
   ],
   "source": [
    "b[1,1] = 18\n",
    "b[1,1]"
   ]
  },
  {
   "cell_type": "code",
   "execution_count": 20,
   "id": "adcfd57b-6c2b-4d51-a7df-d4d6b71a6499",
   "metadata": {},
   "outputs": [
    {
     "data": {
      "text/plain": [
       "array([[ 1,  7, 20],\n",
       "       [ 5, 18,  9]])"
      ]
     },
     "execution_count": 20,
     "metadata": {},
     "output_type": "execute_result"
    }
   ],
   "source": [
    "b"
   ]
  },
  {
   "cell_type": "code",
   "execution_count": 21,
   "id": "47282bb8-302b-4c2b-ba6e-683360740f73",
   "metadata": {},
   "outputs": [
    {
     "data": {
      "text/plain": [
       "array([[0., 0., 0.],\n",
       "       [0., 0., 0.]])"
      ]
     },
     "execution_count": 21,
     "metadata": {},
     "output_type": "execute_result"
    }
   ],
   "source": [
    "dizi_s = np.zeros((2,3))\n",
    "dizi_s"
   ]
  },
  {
   "cell_type": "code",
   "execution_count": 23,
   "id": "bc66bc16-9fff-4069-b5ab-e63f98e5a099",
   "metadata": {},
   "outputs": [
    {
     "data": {
      "text/plain": [
       "array([[50, 50, 50, 50],\n",
       "       [50, 50, 50, 50],\n",
       "       [50, 50, 50, 50],\n",
       "       [50, 50, 50, 50]])"
      ]
     },
     "execution_count": 23,
     "metadata": {},
     "output_type": "execute_result"
    }
   ],
   "source": [
    "dizi_s = np.full((4,4),50)\n",
    "dizi_s"
   ]
  },
  {
   "cell_type": "code",
   "execution_count": 24,
   "id": "92e5c05e-4991-48ab-af3a-227aa1dccf5e",
   "metadata": {},
   "outputs": [
    {
     "data": {
      "text/plain": [
       "array([[0.52342628, 0.54621288, 0.23522518],\n",
       "       [0.45845311, 0.16027095, 0.60538977],\n",
       "       [0.53351254, 0.07737084, 0.30277128],\n",
       "       [0.61647243, 0.27322272, 0.31776024]])"
      ]
     },
     "execution_count": 24,
     "metadata": {},
     "output_type": "execute_result"
    }
   ],
   "source": [
    "dizi2 = np.random.rand(4,3)\n",
    "dizi2"
   ]
  },
  {
   "cell_type": "code",
   "execution_count": 27,
   "id": "eb5e7387-2966-47ae-91bb-dd204ee840e4",
   "metadata": {},
   "outputs": [
    {
     "data": {
      "text/plain": [
       "array([[54,  4, 37, 80, 71],\n",
       "       [63, 98, 50, 45, 39],\n",
       "       [48,  0, 93, 22, 59],\n",
       "       [42, 83, 93, 68, 11],\n",
       "       [16, 55,  0, 24, 65]])"
      ]
     },
     "execution_count": 27,
     "metadata": {},
     "output_type": "execute_result"
    }
   ],
   "source": [
    "dizi3 = np.random.randint(0,100,size=(5,5))\n",
    "dizi3\n"
   ]
  },
  {
   "cell_type": "code",
   "execution_count": 29,
   "id": "8031b21e-b81f-497a-9db9-59cd4ae55c46",
   "metadata": {},
   "outputs": [
    {
     "name": "stdout",
     "output_type": "stream",
     "text": [
      "[90  2  3]\n"
     ]
    }
   ],
   "source": [
    "a = np.array([1,2,3])\n",
    "b = a\n",
    "b[0] = 90\n",
    "print(a)"
   ]
  },
  {
   "cell_type": "code",
   "execution_count": 30,
   "id": "6b79e374-776f-4000-a8e5-a0c4d0fe6881",
   "metadata": {},
   "outputs": [
    {
     "name": "stdout",
     "output_type": "stream",
     "text": [
      "[1 2 3]\n"
     ]
    }
   ],
   "source": [
    "a = np.array([1,2,3])\n",
    "b = a.copy()\n",
    "b[0] = 90\n",
    "print (a)"
   ]
  },
  {
   "cell_type": "code",
   "execution_count": 32,
   "id": "a1d9a7c5-2f29-4b40-97c0-1c072e67e058",
   "metadata": {},
   "outputs": [
    {
     "data": {
      "text/plain": [
       "array([[1, 2, 3],\n",
       "       [4, 5, 6]])"
      ]
     },
     "execution_count": 32,
     "metadata": {},
     "output_type": "execute_result"
    }
   ],
   "source": [
    "dizi4 = np.array([[1,2,3],[4,5,6]])\n",
    "dizi4"
   ]
  },
  {
   "cell_type": "code",
   "execution_count": 33,
   "id": "4068a68e-dea1-4b82-bfe0-56d9ad50dcf3",
   "metadata": {},
   "outputs": [
    {
     "data": {
      "text/plain": [
       "1"
      ]
     },
     "execution_count": 33,
     "metadata": {},
     "output_type": "execute_result"
    }
   ],
   "source": [
    "np.min(dizi4)"
   ]
  },
  {
   "cell_type": "code",
   "execution_count": 34,
   "id": "7fc2bb82-9c97-4a57-953d-aab6afc45438",
   "metadata": {},
   "outputs": [
    {
     "data": {
      "text/plain": [
       "6"
      ]
     },
     "execution_count": 34,
     "metadata": {},
     "output_type": "execute_result"
    }
   ],
   "source": [
    "np.max(dizi4)"
   ]
  },
  {
   "cell_type": "code",
   "execution_count": 35,
   "id": "1a56389e-fd7f-45e4-bb85-d8704f6be745",
   "metadata": {},
   "outputs": [
    {
     "data": {
      "text/plain": [
       "21"
      ]
     },
     "execution_count": 35,
     "metadata": {},
     "output_type": "execute_result"
    }
   ],
   "source": [
    "np.sum(dizi4)"
   ]
  },
  {
   "cell_type": "code",
   "execution_count": 36,
   "id": "7c6847b0-c0b4-48c7-a309-c9990569bf44",
   "metadata": {},
   "outputs": [
    {
     "name": "stdout",
     "output_type": "stream",
     "text": [
      "[[1 2 3 4 5 6 7]\n",
      " [8 9 7 9 9 8 7]\n",
      " [3 3 3 5 7 9 0]]\n"
     ]
    }
   ],
   "source": [
    "filedata = np.genfromtxt(\"Ornek.txt\", delimiter = \",\")\n",
    "filedata = filedata.astype(\"int32\")\n",
    "print(filedata)"
   ]
  },
  {
   "cell_type": "code",
   "execution_count": 37,
   "id": "681e715f-3064-4874-a678-6ff9f2b0a8cb",
   "metadata": {},
   "outputs": [
    {
     "data": {
      "text/plain": [
       "8"
      ]
     },
     "execution_count": 37,
     "metadata": {},
     "output_type": "execute_result"
    }
   ],
   "source": [
    "filedata[1,0]"
   ]
  },
  {
   "cell_type": "code",
   "execution_count": 38,
   "id": "9112f68f-1fe7-4071-8510-bce0250a9530",
   "metadata": {},
   "outputs": [
    {
     "data": {
      "text/plain": [
       "5"
      ]
     },
     "execution_count": 38,
     "metadata": {},
     "output_type": "execute_result"
    }
   ],
   "source": [
    "filedata[2,3]"
   ]
  },
  {
   "cell_type": "code",
   "execution_count": null,
   "id": "ef31b2c4-859c-4690-ae14-c202d6978871",
   "metadata": {},
   "outputs": [],
   "source": []
  }
 ],
 "metadata": {
  "kernelspec": {
   "display_name": "Python 3 (ipykernel)",
   "language": "python",
   "name": "python3"
  },
  "language_info": {
   "codemirror_mode": {
    "name": "ipython",
    "version": 3
   },
   "file_extension": ".py",
   "mimetype": "text/x-python",
   "name": "python",
   "nbconvert_exporter": "python",
   "pygments_lexer": "ipython3",
   "version": "3.11.7"
  }
 },
 "nbformat": 4,
 "nbformat_minor": 5
}
